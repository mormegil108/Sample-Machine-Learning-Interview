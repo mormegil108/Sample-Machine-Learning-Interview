{
 "cells": [
  {
   "cell_type": "markdown",
   "id": "b414c810-1902-4fba-9430-3880792b272f",
   "metadata": {},
   "source": [
    "# ARTICLE CLUSTERING"
   ]
  },
  {
   "cell_type": "code",
   "execution_count": 6,
   "id": "e8ea70d7-1afc-4116-b675-64146234047e",
   "metadata": {},
   "outputs": [],
   "source": [
    "import warnings\n",
    "warnings.filterwarnings(\"ignore\")\n",
    "\n",
    "import os\n",
    "from sklearn.cluster import KMeans\n",
    "from sklearn.decomposition import PCA\n",
    "import sklearn.metrics.cluster as metrics\n",
    "import numpy as np\n",
    "import pickle\n",
    "\n",
    "def cluster_articles(data):\n",
    "    \n",
    "    X = np.asarray(data[\"vectors\"])\n",
    "    y = np.asarray(data[\"group\"])\n",
    "\n",
    "    km_args = dict(\n",
    "        n_clusters=10, \n",
    "        random_state=2, \n",
    "        tol=0.05, \n",
    "        max_iter=50,\n",
    "    )\n",
    "\n",
    "    km_full = KMeans(**km_args).fit(X)\n",
    "    labels_100 = km_full.labels_\n",
    "    nobs_100 = np.bincount(labels_100).tolist()\n",
    "\n",
    "    pca = PCA(n_components=10, random_state=2)\n",
    "    X_reduced = pca.fit_transform(X)\n",
    "    pca_explained = float(pca.explained_variance_[0])\n",
    "\n",
    "    km_red = KMeans(**km_args).fit(X_reduced)\n",
    "    labels_10 = km_red.labels_\n",
    "    nobs_10 = np.bincount(labels_10).tolist()\n",
    "\n",
    "    cs_100 = metrics.completeness_score(y, labels_100)\n",
    "    cs_10 = metrics.completeness_score(y, labels_10)\n",
    "    vms_100 = metrics.v_measure_score(y, labels_100)\n",
    "    vms_10 = metrics.v_measure_score(y, labels_10)\n",
    "\n",
    "    return {\n",
    "        \"nobs_100\": nobs_100,\n",
    "        \"nobs_10\": nobs_10,\n",
    "        \"pca_explained\": pca_explained,\n",
    "        \"cs_100\": cs_100,\n",
    "        \"cs_10\": cs_10,\n",
    "        \"vms_100\": vms_100,\n",
    "        \"vms_10\": vms_10,\n",
    "    }"
   ]
  },
  {
   "cell_type": "code",
   "execution_count": 7,
   "id": "97a6449d-3984-4166-90a5-e820a500bb3f",
   "metadata": {},
   "outputs": [
    {
     "name": "stdout",
     "output_type": "stream",
     "text": [
      "{'nobs_100': [586, 1132, 1680, 1152, 1156, 1486, 1357, 580, 1017, 1168], 'nobs_10': [1099, 1181, 1195, 1161, 1506, 1191, 630, 895, 713, 1743], 'pca_explained': 0.7096365690231323, 'cs_100': 0.6901578857723636, 'cs_10': 0.4801995751023586, 'vms_100': 0.7093524278356562, 'vms_10': 0.494180250439118}\n"
     ]
    }
   ],
   "source": [
    "data_directory = r\"C:\\Users\\sb013698\\Desktop\\ML Test\\Datasets\\Article Clustering\"\n",
    "with open(os.path.join(data_directory, \"documents.p\"), \"rb\") as f:\n",
    "    data = pickle.load(f)\n",
    "\n",
    "result_dict = cluster_articles(data)\n",
    "print(result_dict)"
   ]
  },
  {
   "cell_type": "code",
   "execution_count": null,
   "id": "978173be-cf28-4fa9-a0dd-02ac3ebc645b",
   "metadata": {},
   "outputs": [],
   "source": []
  },
  {
   "cell_type": "code",
   "execution_count": null,
   "id": "d42b2818-4df8-46d3-ab33-91af6aeb19be",
   "metadata": {},
   "outputs": [],
   "source": []
  },
  {
   "cell_type": "markdown",
   "id": "5133d5b1-420a-4f71-9fb5-67a7849da08e",
   "metadata": {},
   "source": [
    "# END"
   ]
  }
 ],
 "metadata": {
  "kernelspec": {
   "display_name": "Python 3 (ipykernel)",
   "language": "python",
   "name": "python3"
  },
  "language_info": {
   "codemirror_mode": {
    "name": "ipython",
    "version": 3
   },
   "file_extension": ".py",
   "mimetype": "text/x-python",
   "name": "python",
   "nbconvert_exporter": "python",
   "pygments_lexer": "ipython3",
   "version": "3.8.12"
  }
 },
 "nbformat": 4,
 "nbformat_minor": 5
}
