{
 "cells": [
  {
   "cell_type": "markdown",
   "id": "e446f708-e21d-4df4-8873-c74d233ba5c4",
   "metadata": {},
   "source": [
    "# REGULARIZED REGRESSION"
   ]
  },
  {
   "cell_type": "code",
   "execution_count": 1,
   "id": "ccb2e4e5-9e6f-456b-b819-2b11a832f1f9",
   "metadata": {},
   "outputs": [],
   "source": [
    "import warnings\n",
    "warnings.filterwarnings(\"ignore\")\n",
    "\n",
    "import os\n",
    "import pandas as pd\n",
    "import numpy as np\n",
    "from sklearn import linear_model\n",
    "from sklearn.preprocessing import StandardScaler\n",
    "from sklearn.pipeline import make_pipeline\n",
    "from sklearn.metrics import mean_squared_error, mean_absolute_percentage_error\n",
    "\n",
    "def regression(data_train, data_test):\n",
    "    \n",
    "    X_train = data_train.drop(columns=[\"price\"])\n",
    "    y_train = data_train[\"price\"]\n",
    "    X_test = data_test.drop(columns=[\"price\"])\n",
    "    y_test = data_test[\"price\"]\n",
    "\n",
    "    alphas = np.logspace(-4, -1, 4)\n",
    "    l1_grid = np.arange(0.6, 1, 0.1)\n",
    "\n",
    "    ridge_pipe = make_pipeline(\n",
    "        StandardScaler(), \n",
    "        linear_model.RidgeCV(alphas=alphas, cv=5),\n",
    "    )\n",
    "    lasso_pipe = make_pipeline(\n",
    "        StandardScaler(), \n",
    "        linear_model.LassoCV(alphas=alphas, cv=5, random_state=0),\n",
    "    )\n",
    "    elastic_pipe = make_pipeline(\n",
    "        StandardScaler(), \n",
    "        linear_model.ElasticNetCV(alphas=alphas, l1_ratio=l1_grid, cv=5, random_state=0),\n",
    "    )\n",
    "\n",
    "    ridge_pipe.fit(X_train, y_train)\n",
    "    lasso_pipe.fit(X_train, y_train)\n",
    "    elastic_pipe.fit(X_train, y_train)\n",
    "\n",
    "    ridge_coef = pd.DataFrame(\n",
    "        {\"variable\": X_train.columns, \"coef\": ridge_pipe[-1].coef_}\n",
    "    )\n",
    "    lasso_coef = pd.DataFrame(\n",
    "        {\"variable\": X_train.columns, \"coef\": lasso_pipe[-1].coef_}\n",
    "    )\n",
    "    elastic_coef = pd.DataFrame(\n",
    "        {\"variable\": X_train.columns, \"coef\": elastic_pipe[-1].coef_}\n",
    "    )\n",
    "\n",
    "    ridge_coef = ridge_coef[abs(ridge_coef[\"coef\"]) > 1.0]\n",
    "    lasso_coef = lasso_coef[lasso_coef[\"coef\"] != 0]\n",
    "    elastic_coef = elastic_coef[abs(elastic_coef[\"coef\"]) > 1.0]\n",
    "\n",
    "    # Compare regularization methods\n",
    "    scaler = StandardScaler()\n",
    "    scaler.fit(X_train)\n",
    "    X_train_scaled = scaler.transform(X_train)\n",
    "    X_test_scaled = scaler.transform(X_test)\n",
    "    \n",
    "    # Use models with optimal hyperparameters\n",
    "    ridge_pred = ridge_pipe.predict(X_test)\n",
    "    lasso_pred = lasso_pipe.predict(X_test)\n",
    "    elastic_pred = elastic_pipe.predict(X_test)\n",
    "\n",
    "    ridge_mse = mean_squared_error(y_test, ridge_pred)\n",
    "    lasso_mse = mean_squared_error(y_test, lasso_pred)\n",
    "    elastic_mse = mean_squared_error(y_test, elastic_pred)\n",
    "\n",
    "    ridge_mape = mean_absolute_percentage_error(y_test, ridge_pred)\n",
    "    lasso_mape = mean_absolute_percentage_error(y_test, lasso_pred)\n",
    "    elastic_mape = mean_absolute_percentage_error(y_test, elastic_pred)\n",
    "\n",
    "    return {\n",
    "        \"ridge\": {\n",
    "            \"alpha\": ridge_pipe[-1].alpha_,\n",
    "            \"pred\": np.round(ridge_pipe.predict(X_test), 2),\n",
    "            \"coefficients\": ridge_coef,\n",
    "            \"MSE and MAPE\": [np.round(ridge_mse, 2), np.round(ridge_mape, 4)],\n",
    "        },\n",
    "        \"lasso\": {\n",
    "            \"alpha\": lasso_pipe[-1].alpha_,\n",
    "            \"pred\": np.round(lasso_pipe.predict(X_test), 2),\n",
    "            \"coefficients\": lasso_coef,\n",
    "            \"MSE and MAPE\": [np.round(lasso_mse, 2), np.round(lasso_mape, 4)],\n",
    "        },\n",
    "        \"elastic_net\": {\n",
    "            \"alpha\": elastic_pipe[-1].alpha_,\n",
    "            \"l1_ratio\": elastic_pipe[-1].l1_ratio_,\n",
    "            \"pred\": np.round(elastic_pipe.predict(X_test), 2),\n",
    "            \"coefficients\": elastic_coef,\n",
    "            \"MSE and MAPE\": [np.round(elastic_mse, 2), np.round(elastic_mape, 4)],\n",
    "        }\n",
    "    }"
   ]
  },
  {
   "cell_type": "code",
   "execution_count": 2,
   "id": "9a518469-b79b-4f06-bda4-bad5180caa73",
   "metadata": {},
   "outputs": [
    {
     "name": "stdout",
     "output_type": "stream",
     "text": [
      "Ridge >>>> MSE and MAPE: [627.21, 0.1505]\n",
      "Lasso >>>> MSE and MAPE: [812.8, 0.1527]\n",
      "ElasticNet >>>> MSE and MAPE: [1028.56, 0.1513]\n"
     ]
    }
   ],
   "source": [
    "data_directory = r\"C:\\Users\\sb013698\\Desktop\\ML Test\\Datasets\\Regularized Regression\"\n",
    "data_train = pd.read_csv(os.path.join(data_directory, \"data_train.csv\"))\n",
    "data_test = pd.read_csv(os.path.join(data_directory, \"data_test.csv\"))\n",
    "\n",
    "regression_results = regression(data_train, data_test)\n",
    "print(f'Ridge >>>> MSE and MAPE: {regression_results[\"ridge\"][\"MSE and MAPE\"]}')\n",
    "print(f'Lasso >>>> MSE and MAPE: {regression_results[\"lasso\"][\"MSE and MAPE\"]}')\n",
    "print(f'ElasticNet >>>> MSE and MAPE: {regression_results[\"elastic_net\"][\"MSE and MAPE\"]}')"
   ]
  },
  {
   "cell_type": "code",
   "execution_count": null,
   "id": "94d52e75-4397-4fee-bf07-0f91e3152a39",
   "metadata": {},
   "outputs": [],
   "source": []
  },
  {
   "cell_type": "code",
   "execution_count": null,
   "id": "829f88b4-df44-42ce-8732-b78eabc6653a",
   "metadata": {},
   "outputs": [],
   "source": []
  },
  {
   "cell_type": "markdown",
   "id": "c56be591-eb3c-47fd-80ff-fdb598e80da6",
   "metadata": {},
   "source": [
    "# END"
   ]
  }
 ],
 "metadata": {
  "kernelspec": {
   "display_name": "Python 3 (ipykernel)",
   "language": "python",
   "name": "python3"
  },
  "language_info": {
   "codemirror_mode": {
    "name": "ipython",
    "version": 3
   },
   "file_extension": ".py",
   "mimetype": "text/x-python",
   "name": "python",
   "nbconvert_exporter": "python",
   "pygments_lexer": "ipython3",
   "version": "3.8.12"
  }
 },
 "nbformat": 4,
 "nbformat_minor": 5
}
