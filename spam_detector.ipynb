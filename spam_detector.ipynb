{
 "cells": [
  {
   "cell_type": "markdown",
   "id": "a42a10cb-cf3c-4cec-9d50-a60bdf0904c2",
   "metadata": {},
   "source": [
    "# SPAM DETECTOR"
   ]
  },
  {
   "cell_type": "code",
   "execution_count": 1,
   "id": "ee8a8ef9-b6b8-4802-9be2-cadce4a05f05",
   "metadata": {},
   "outputs": [],
   "source": [
    "import warnings\n",
    "warnings.filterwarnings(\"ignore\")\n",
    "\n",
    "import os\n",
    "import pandas as pd\n",
    "import numpy as np\n",
    "from sklearn.metrics import confusion_matrix, f1_score\n",
    "from sklearn.feature_extraction.text import TfidfVectorizer\n",
    "from sklearn.linear_model import LogisticRegression\n",
    "from sklearn.naive_bayes import MultinomialNB\n",
    "from sklearn.tree import DecisionTreeClassifier\n",
    "from sklearn.svm import LinearSVC\n",
    "\n",
    "def spam_detector(train_df, valid_df, test_df):\n",
    "    \n",
    "    vectorizer = TfidfVectorizer(\n",
    "        min_df=2, \n",
    "        ngram_range=(1, 2), \n",
    "        lowercase=True,\n",
    "    )\n",
    "    \n",
    "    X_train = vectorizer.fit_transform(train_df[\"text\"])\n",
    "    X_val = vectorizer.transform(valid_df[\"text\"])\n",
    "    X_test = vectorizer.transform(test_df[\"text\"])\n",
    "    y_train = train_df[\"label\"].values\n",
    "    y_val = valid_df[\"label\"].values\n",
    "\n",
    "    models = {\n",
    "        \"LogisticRegression\": LogisticRegression(random_state=0, max_iter=1000),\n",
    "        \"MultinomialNB\": MultinomialNB(),\n",
    "        \"DecisionTreeClassifier\": DecisionTreeClassifier(random_state=0),\n",
    "        \"LinearSVC\": LinearSVC(),\n",
    "    }\n",
    "\n",
    "    confusion_matrices = {}\n",
    "    f1_scores = {}\n",
    "    best_name, best_model, best_missed = None, None, None\n",
    "    for name, clf in models.items():\n",
    "        \n",
    "        clf.fit(X_train, y_train)\n",
    "        val_pred = clf.predict(X_val)\n",
    "        cm = confusion_matrix(y_val, val_pred, labels=[0, 1])\n",
    "        confusion_matrices[name] = cm\n",
    "        f1 = f1_score(y_val, val_pred, average=\"macro\")\n",
    "        f1_scores[name] = np.round(f1, 4)\n",
    "        missed = int(cm[0, 1])\n",
    "        \n",
    "        if best_missed is None or missed < best_missed:\n",
    "            best_missed = missed\n",
    "            best_name = name\n",
    "            best_model = clf\n",
    "\n",
    "    test_pred = best_model.predict(X_test)\n",
    "\n",
    "    results = {\n",
    "        \"LogisticRegression\": confusion_matrices[\"LogisticRegression\"],\n",
    "        \"MultinomialNB\": confusion_matrices[\"MultinomialNB\"],\n",
    "        \"DecisionTreeClassifier\": confusion_matrices[\"DecisionTreeClassifier\"],\n",
    "        \"LinearSVC\": confusion_matrices[\"LinearSVC\"],\n",
    "        \"BestClassifier\": best_name,\n",
    "        \"TfidfVectorizer\": X_test,\n",
    "        \"Prediction\": test_pred,\n",
    "        \"F1 Results\": f1_scores,\n",
    "    }\n",
    "    return results"
   ]
  },
  {
   "cell_type": "code",
   "execution_count": 2,
   "id": "62b6530e-fc59-4a42-aac7-052d66effc24",
   "metadata": {},
   "outputs": [
    {
     "name": "stdout",
     "output_type": "stream",
     "text": [
      "Best Classifier: LinearSVC\n",
      "F1 Scores: \n",
      "{'LogisticRegression': 0.9193, 'MultinomialNB': 0.9193, 'DecisionTreeClassifier': 0.9194, 'LinearSVC': 0.9737}\n"
     ]
    }
   ],
   "source": [
    "data_directory = r\"C:\\Users\\sb013698\\Desktop\\ML Test\\Datasets\\Spam Detector\"\n",
    "train_df, valid_df, test_df = [pd.read_csv(os.path.join(data_directory, f\"{split}.csv\")) for split in [\"train\",\"valid\",\"test\"]]\n",
    "\n",
    "result_dict = spam_detector(train_df, valid_df, test_df)\n",
    "print(f'Best Classifier: {result_dict[\"BestClassifier\"]}')\n",
    "print(f'F1 Scores: \\n{result_dict[\"F1 Results\"]}')"
   ]
  },
  {
   "cell_type": "code",
   "execution_count": null,
   "id": "e1829d4f-3cd7-4652-ac7a-d4f23d85ffea",
   "metadata": {},
   "outputs": [],
   "source": []
  },
  {
   "cell_type": "code",
   "execution_count": null,
   "id": "567864d4-e805-4aaf-b578-e6f92f241d94",
   "metadata": {},
   "outputs": [],
   "source": []
  },
  {
   "cell_type": "markdown",
   "id": "f17e2bf3-7bef-4cf8-b571-9966452f6e98",
   "metadata": {},
   "source": [
    "# END"
   ]
  }
 ],
 "metadata": {
  "kernelspec": {
   "display_name": "Python 3 (ipykernel)",
   "language": "python",
   "name": "python3"
  },
  "language_info": {
   "codemirror_mode": {
    "name": "ipython",
    "version": 3
   },
   "file_extension": ".py",
   "mimetype": "text/x-python",
   "name": "python",
   "nbconvert_exporter": "python",
   "pygments_lexer": "ipython3",
   "version": "3.8.12"
  }
 },
 "nbformat": 4,
 "nbformat_minor": 5
}
